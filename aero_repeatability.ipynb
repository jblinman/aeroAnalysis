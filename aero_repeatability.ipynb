{
 "cells": [
  {
   "cell_type": "code",
   "execution_count": 1,
   "metadata": {},
   "outputs": [],
   "source": [
    "from aeroTesting import AeroRepeatability, Probe"
   ]
  },
  {
   "cell_type": "code",
   "execution_count": null,
   "metadata": {},
   "outputs": [],
   "source": [
    "# user sequence:\n",
    "golden_probe_path = input('Path to golden probe data: ')\n",
    "uut_probe_path = input('Path to uut probe data: ')\n",
    "AeroRepeatability(golden_probe_path, uut_probe_path)"
   ]
  },
  {
   "cell_type": "code",
   "execution_count": 2,
   "metadata": {},
   "outputs": [],
   "source": [
    "golden_probe_path = '/home/stoker/aero_analysis/A0251-50kn'\n",
    "uut_probe_path = '/home/stoker/aero_analysis/SN003-50kn'"
   ]
  },
  {
   "cell_type": "code",
   "execution_count": null,
   "metadata": {},
   "outputs": [],
   "source": [
    "uut_probe.data_path"
   ]
  },
  {
   "cell_type": "code",
   "execution_count": 3,
   "metadata": {},
   "outputs": [
    {
     "name": "stdout",
     "output_type": "stream",
     "text": [
      "Known headers:\n",
      "aerosonic_default\n",
      "wrong\n",
      "test1\n",
      "Choose an existing header or type NO:aerosonic_default\n",
      "{'1': 'time', '9': 'tempF', '7': 'uut_static_pressure2', '10': 'angle', '3': 'tunnel_ref_static_pressure', '0': 'date', '6': 'uut_static_pressure1', '2': 'tunnel_ref_total_pressure', '5': 'uut_total_pressure'}\n",
      "{'1': 'time', '9': 'tempF', '7': 'uut_static_pressure2', '10': 'angle', '3': 'tunnel_ref_static_pressure', '0': 'date', '6': 'uut_static_pressure1', '2': 'tunnel_ref_total_pressure', '5': 'uut_total_pressure'}\n"
     ]
    },
    {
     "name": "stderr",
     "output_type": "stream",
     "text": [
      "/home/stoker/aero_analysis/aeroTesting.py:111: SettingWithCopyWarning: \n",
      "A value is trying to be set on a copy of a slice from a DataFrame.\n",
      "Try using .loc[row_indexer,col_indexer] = value instead\n",
      "\n",
      "See the caveats in the documentation: http://pandas.pydata.org/pandas-docs/stable/indexing.html#indexing-view-versus-copy\n",
      "  df['angle'] = df['angle'].apply(self.normalize_angle)\n"
     ]
    },
    {
     "data": {
      "text/plain": [
       "<aeroTesting.AeroRepeatability at 0x7f1940210048>"
      ]
     },
     "execution_count": 3,
     "metadata": {},
     "output_type": "execute_result"
    }
   ],
   "source": [
    "AeroRepeatability(golden_probe_path, uut_probe_path)"
   ]
  },
  {
   "cell_type": "code",
   "execution_count": 6,
   "metadata": {
    "scrolled": false
   },
   "outputs": [
    {
     "name": "stdout",
     "output_type": "stream",
     "text": [
      "Known headers:\n",
      "wrong\n",
      "test1\n",
      "aerosonic_default\n",
      "Choose an existing header or type NO:aerosonic_default\n",
      "{'0': 'date', '1': 'time', '6': 'uut_static_pressure1', '2': 'tunnel_ref_total_pressure', '5': 'uut_total_pressure', '7': 'uut_static_pressure2', '10': 'angle', '3': 'tunnel_ref_static_pressure', '9': 'tempF'}\n"
     ]
    },
    {
     "name": "stderr",
     "output_type": "stream",
     "text": [
      "/home/stoker/aero_analysis/aeroTesting.py:111: SettingWithCopyWarning: \n",
      "A value is trying to be set on a copy of a slice from a DataFrame.\n",
      "Try using .loc[row_indexer,col_indexer] = value instead\n",
      "\n",
      "See the caveats in the documentation: http://pandas.pydata.org/pandas-docs/stable/indexing.html#indexing-view-versus-copy\n",
      "  df['angle'] = df['angle'].apply(self.normalize_angle)\n"
     ]
    }
   ],
   "source": [
    "golden_probe = Probe(golden_probe_path)\n"
   ]
  },
  {
   "cell_type": "code",
   "execution_count": 7,
   "metadata": {},
   "outputs": [
    {
     "name": "stdout",
     "output_type": "stream",
     "text": [
      "Known headers:\n",
      "wrong\n",
      "test1\n",
      "aerosonic_default\n",
      "Choose an existing header or type NO:aerosonic_default\n",
      "{'0': 'date', '1': 'time', '6': 'uut_static_pressure1', '2': 'tunnel_ref_total_pressure', '5': 'uut_total_pressure', '7': 'uut_static_pressure2', '10': 'angle', '3': 'tunnel_ref_static_pressure', '9': 'tempF'}\n"
     ]
    },
    {
     "name": "stderr",
     "output_type": "stream",
     "text": [
      "/home/stoker/aero_analysis/aeroTesting.py:111: SettingWithCopyWarning: \n",
      "A value is trying to be set on a copy of a slice from a DataFrame.\n",
      "Try using .loc[row_indexer,col_indexer] = value instead\n",
      "\n",
      "See the caveats in the documentation: http://pandas.pydata.org/pandas-docs/stable/indexing.html#indexing-view-versus-copy\n",
      "  df['angle'] = df['angle'].apply(self.normalize_angle)\n"
     ]
    }
   ],
   "source": [
    "uut_probe = Probe(uut_probe_path)"
   ]
  },
  {
   "cell_type": "code",
   "execution_count": null,
   "metadata": {},
   "outputs": [],
   "source": [
    "uut_probe.cp"
   ]
  },
  {
   "cell_type": "code",
   "execution_count": 14,
   "metadata": {},
   "outputs": [],
   "source": [
    "#import seaborn\n",
    "import pandas as pd\n",
    "import os\n",
    "import json\n",
    "import matplotlib.pyplot as plt\n",
    "from datetime import date\n",
    "import ntpath\n",
    "#def compare_cp_plot(self, col, origin_bounds = 0.005):\n",
    "#    #TODO\n",
    "#    return\n",
    "origin_bounds = 0.005"
   ]
  },
  {
   "cell_type": "code",
   "execution_count": 15,
   "metadata": {},
   "outputs": [],
   "source": [
    "col = 'cp_total_pressure'\n",
    "filename = uut_probe.data_path\n",
    "if 'total' in col:\n",
    "    generated_title = 'Total Pressure'\n",
    "    filename = filename + '-total-'\n",
    "elif 'static' in col and '1' in col:\n",
    "    generated_title = 'Static Pressure 1'\n",
    "    filename = filename + '-static1-'\n",
    "elif 'static' in col and '2' in col:\n",
    "    generated_title = 'Static Pressure 2'\n",
    "    filename = filename + '-static2-'\n",
    "else:\n",
    "    generated_title = ''\n",
    "filename = filename + '-' + str(date.today()) + '.png'\n",
    "# check if passed or failed\n",
    "difference = uut_probe.cp[col]-golden_probe.cp[col]\n",
    "difference.drop(labels='Drift Data', inplace=True)\n",
    "pos_mask = difference.index.to_series() >= 0\n",
    "neg_mask = difference.index.to_series() < 0\n",
    "upper_bound = pd.concat([origin_bounds + difference.index.to_series()[pos_mask]*0.0005, origin_bounds - difference.index.to_series()[neg_mask]*0.0005])\n",
    "upper_bound.sort_index()\n",
    "lower_bound = pd.concat([-origin_bounds - difference.index.to_series()[pos_mask]*0.0005, -origin_bounds + difference.index.to_series()[neg_mask]*0.0005])\n",
    "\n",
    "\n",
    "\n",
    "if any(upper_bound - difference < 0):\n",
    "    passFail = 'FAIL'\n",
    "elif any(difference - lower_bound < 0):\n",
    "    passFail = 'FAIL'\n",
    "else:\n",
    "    passFail = 'PASS'\n",
    "\n",
    "neg_mask = difference.index.to_series() <= 0\n",
    "plt.figure(figsize=(8, 6), dpi=80)\n",
    "plt.scatter(difference.index, difference, color='blue')\n",
    "\n",
    "#plt.plot(upper_bound.index, upper_bound, linestyle='dashed', color='red')\n",
    "plt.plot(difference.index[pos_mask], origin_bounds + difference.index.to_series()[pos_mask]*0.0005, linestyle='dashed', color='red')\n",
    "plt.plot(difference.index[pos_mask], -origin_bounds - difference.index.to_series()[pos_mask]*0.0005, linestyle='dashed', color='red')\n",
    "plt.plot(difference.index[neg_mask], origin_bounds - difference.index.to_series()[neg_mask]*0.0005, linestyle='dashed', color='red')\n",
    "plt.plot(difference.index[neg_mask], -origin_bounds + difference.index.to_series()[neg_mask]*0.0005, linestyle='dashed', color='red')\n",
    "plt.xlabel('AOA (deg)')\n",
    "plt.ylabel('$\\Delta$P / $q_c$')\n",
    "plt.title(generated_title + '\\n ' + passFail)\n",
    "\n",
    "#plt.show()\n",
    "plt.savefig(filename)\n",
    "\n",
    "\n",
    "\n"
   ]
  },
  {
   "cell_type": "code",
   "execution_count": 23,
   "metadata": {},
   "outputs": [
    {
     "data": {
      "text/html": [
       "<div>\n",
       "<style>\n",
       "    .dataframe thead tr:only-child th {\n",
       "        text-align: right;\n",
       "    }\n",
       "\n",
       "    .dataframe thead th {\n",
       "        text-align: left;\n",
       "    }\n",
       "\n",
       "    .dataframe tbody tr th {\n",
       "        vertical-align: top;\n",
       "    }\n",
       "</style>\n",
       "<table border=\"1\" class=\"dataframe\">\n",
       "  <thead>\n",
       "    <tr style=\"text-align: right;\">\n",
       "      <th></th>\n",
       "      <th>0</th>\n",
       "    </tr>\n",
       "    <tr>\n",
       "      <th>angle</th>\n",
       "      <th></th>\n",
       "    </tr>\n",
       "  </thead>\n",
       "  <tbody>\n",
       "    <tr>\n",
       "      <th>-20</th>\n",
       "      <td>F</td>\n",
       "    </tr>\n",
       "    <tr>\n",
       "      <th>-18</th>\n",
       "      <td>F</td>\n",
       "    </tr>\n",
       "    <tr>\n",
       "      <th>-16</th>\n",
       "      <td>F</td>\n",
       "    </tr>\n",
       "    <tr>\n",
       "      <th>-14</th>\n",
       "      <td>F</td>\n",
       "    </tr>\n",
       "    <tr>\n",
       "      <th>-12</th>\n",
       "      <td>F</td>\n",
       "    </tr>\n",
       "    <tr>\n",
       "      <th>-10</th>\n",
       "      <td>F</td>\n",
       "    </tr>\n",
       "    <tr>\n",
       "      <th>-8</th>\n",
       "      <td>F</td>\n",
       "    </tr>\n",
       "    <tr>\n",
       "      <th>-6</th>\n",
       "      <td>F</td>\n",
       "    </tr>\n",
       "    <tr>\n",
       "      <th>-4</th>\n",
       "      <td>F</td>\n",
       "    </tr>\n",
       "    <tr>\n",
       "      <th>-2</th>\n",
       "      <td>F</td>\n",
       "    </tr>\n",
       "    <tr>\n",
       "      <th>0</th>\n",
       "      <td>F</td>\n",
       "    </tr>\n",
       "    <tr>\n",
       "      <th>2</th>\n",
       "      <td>P</td>\n",
       "    </tr>\n",
       "    <tr>\n",
       "      <th>4</th>\n",
       "      <td>P</td>\n",
       "    </tr>\n",
       "    <tr>\n",
       "      <th>6</th>\n",
       "      <td>P</td>\n",
       "    </tr>\n",
       "    <tr>\n",
       "      <th>8</th>\n",
       "      <td>P</td>\n",
       "    </tr>\n",
       "    <tr>\n",
       "      <th>10</th>\n",
       "      <td>F</td>\n",
       "    </tr>\n",
       "    <tr>\n",
       "      <th>12</th>\n",
       "      <td>P</td>\n",
       "    </tr>\n",
       "    <tr>\n",
       "      <th>14</th>\n",
       "      <td>F</td>\n",
       "    </tr>\n",
       "    <tr>\n",
       "      <th>16</th>\n",
       "      <td>F</td>\n",
       "    </tr>\n",
       "    <tr>\n",
       "      <th>18</th>\n",
       "      <td>F</td>\n",
       "    </tr>\n",
       "    <tr>\n",
       "      <th>20</th>\n",
       "      <td>F</td>\n",
       "    </tr>\n",
       "  </tbody>\n",
       "</table>\n",
       "</div>"
      ],
      "text/plain": [
       "       0\n",
       "angle   \n",
       "-20    F\n",
       "-18    F\n",
       "-16    F\n",
       "-14    F\n",
       "-12    F\n",
       "-10    F\n",
       "-8     F\n",
       "-6     F\n",
       "-4     F\n",
       "-2     F\n",
       " 0     F\n",
       " 2     P\n",
       " 4     P\n",
       " 6     P\n",
       " 8     P\n",
       " 10    F\n",
       " 12    P\n",
       " 14    F\n",
       " 16    F\n",
       " 18    F\n",
       " 20    F"
      ]
     },
     "execution_count": 23,
     "metadata": {},
     "output_type": "execute_result"
    }
   ],
   "source": [
    "pf_bool = (upper_bound - difference < 0) | (difference - lower_bound < 0)# true if out of bounds\n",
    "pf = pd.DataFrame(['P']*len(pf_bool.index), index = pf_bool.index)\n",
    "pf[pf_bool] = 'F'\n",
    "pf"
   ]
  },
  {
   "cell_type": "code",
   "execution_count": null,
   "metadata": {},
   "outputs": [],
   "source": [
    "\n"
   ]
  },
  {
   "cell_type": "code",
   "execution_count": null,
   "metadata": {},
   "outputs": [],
   "source": [
    "path = os.path.join(golden_probe.data_path.split('/')[:-1])\n",
    "path"
   ]
  },
  {
   "cell_type": "code",
   "execution_count": null,
   "metadata": {},
   "outputs": [],
   "source": [
    "os.path.pathsep#(golden_probe.data_path)"
   ]
  },
  {
   "cell_type": "code",
   "execution_count": null,
   "metadata": {},
   "outputs": [],
   "source": []
  }
 ],
 "metadata": {
  "kernelspec": {
   "display_name": "Python 3",
   "language": "python",
   "name": "python3"
  },
  "language_info": {
   "codemirror_mode": {
    "name": "ipython",
    "version": 3
   },
   "file_extension": ".py",
   "mimetype": "text/x-python",
   "name": "python",
   "nbconvert_exporter": "python",
   "pygments_lexer": "ipython3",
   "version": "3.5.2"
  }
 },
 "nbformat": 4,
 "nbformat_minor": 2
}
